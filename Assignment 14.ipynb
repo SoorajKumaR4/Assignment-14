{
 "cells": [
  {
   "cell_type": "markdown",
   "id": "8fe0a9ae",
   "metadata": {},
   "source": [
    "1. What does RGBA stand for?\n",
    "\n",
    "A. An RGBA value is a tuple of 4 integers, each ranging from 0 to 255. The four integers correspond to the amount of red, green, blue, and alpha (transparency) in the color."
   ]
  },
  {
   "cell_type": "markdown",
   "id": "5e92afa7",
   "metadata": {},
   "source": [
    "2. From the Pillow module, how do you get the RGBA value of any images?\n",
    "\n",
    "A.  A function call to ImageColor.getcolor('CornflowerBlue', 'RGBA') will return the RGBA value for that color."
   ]
  },
  {
   "cell_type": "markdown",
   "id": "dce149c3",
   "metadata": {},
   "source": [
    "3. What is a box tuple, and how does it work?\n",
    "\n",
    "A. A box tuple is a tuple value of four integers: the left edge x-coordinate, the top edge y-coordinate, the width, and the height, respectively."
   ]
  },
  {
   "cell_type": "markdown",
   "id": "a04563e0",
   "metadata": {},
   "source": [
    "4. Use your image and load in notebook then, How can you find out the width and height of an\n",
    "Image object?\n",
    "\n",
    "A. Image.open('zophie.png')."
   ]
  },
  {
   "cell_type": "markdown",
   "id": "84dd1a94",
   "metadata": {},
   "source": [
    "5. What method would you call to get Image object for a 100×100 image, excluding the lower-left\n",
    "quarter of it?\n",
    "\n",
    "A. imageObj.size is a tuple of two integers, the width and the height"
   ]
  },
  {
   "cell_type": "markdown",
   "id": "abc5b8bd",
   "metadata": {},
   "source": [
    "6. After making changes to an Image object, how could you save it as an image file?\n",
    "\n",
    "A.   Call the imageObj.save('new_filename.png') method of the Image object"
   ]
  },
  {
   "cell_type": "markdown",
   "id": "df2af531",
   "metadata": {},
   "source": [
    "7. What module contains Pillow’s shape-drawing code?\n",
    "\n",
    "A. The ImageDraw module contains code to draw on images."
   ]
  },
  {
   "cell_type": "markdown",
   "id": "6fd11257",
   "metadata": {},
   "source": [
    "8.  Image objects do not have drawing methods. What kind of object does? How do you get this kind\n",
    "of object?\n",
    "\n",
    "A. ImageDraw objects have shape-drawing methods such as point(), line(), or rectangle(). They are returned by passing the Image object to the ImageDraw.Draw() function."
   ]
  }
 ],
 "metadata": {
  "kernelspec": {
   "display_name": "Python 3 (ipykernel)",
   "language": "python",
   "name": "python3"
  },
  "language_info": {
   "codemirror_mode": {
    "name": "ipython",
    "version": 3
   },
   "file_extension": ".py",
   "mimetype": "text/x-python",
   "name": "python",
   "nbconvert_exporter": "python",
   "pygments_lexer": "ipython3",
   "version": "3.9.7"
  }
 },
 "nbformat": 4,
 "nbformat_minor": 5
}
